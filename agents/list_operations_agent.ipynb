{
 "cells": [
  {
   "cell_type": "code",
   "execution_count": 5,
   "metadata": {},
   "outputs": [],
   "source": [
    "from typing import TypedDict\n",
    "from langgraph.graph import StateGraph\n",
    "from IPython.display import Image, display\n",
    "import math"
   ]
  },
  {
   "cell_type": "code",
   "execution_count": 6,
   "metadata": {},
   "outputs": [],
   "source": [
    "class AgentState(TypedDict):\n",
    "    name: str\n",
    "    values: list\n",
    "    result: str\n",
    "    operation: str"
   ]
  },
  {
   "cell_type": "code",
   "execution_count": 14,
   "metadata": {},
   "outputs": [],
   "source": [
    "def perform_operation(state: AgentState) -> AgentState:\n",
    "    operation = state.get('operation', \"+\")\n",
    "    total = 0\n",
    "\n",
    "    if operation == \"*\":\n",
    "        total = math.prod(state['values'])\n",
    "        state['result'] = f\"Hi {state['name']}, result after multiplying your values is {total}\"\n",
    "        return state\n",
    "\n",
    "    total = sum(state['values'])\n",
    "    state[\"result\"] = (\n",
    "        f\"Hi {state['name']}, result after adding your values is {total}\"\n",
    "    )\n",
    "    return state"
   ]
  },
  {
   "cell_type": "code",
   "execution_count": 15,
   "metadata": {},
   "outputs": [],
   "source": [
    "graph = StateGraph(AgentState)\n",
    "\n",
    "graph.add_node(\"listOperator\", perform_operation)\n",
    "\n",
    "graph.set_entry_point(\"listOperator\")\n",
    "graph.set_finish_point(\"listOperator\")\n",
    "\n",
    "app = graph.compile()"
   ]
  },
  {
   "cell_type": "code",
   "execution_count": 16,
   "metadata": {},
   "outputs": [
    {
     "data": {
      "image/png": "[encoded data removed]",
      "text/plain": [
       "<IPython.core.display.Image object>"
      ]
     },
     "metadata": {},
     "output_type": "display_data"
    }
   ],
   "source": [
    "display(Image(app.get_graph().draw_mermaid_png()))"
   ]
  },
  {
   "cell_type": "code",
   "execution_count": 19,
   "metadata": {},
   "outputs": [
    {
     "name": "stdout",
     "output_type": "stream",
     "text": [
      "Hi DJ, result after multiplying your values is 120\n"
     ]
    }
   ],
   "source": [
    "result = app.invoke({ 'name': \"DJ\", 'values': [1, 2, 3, 4, 5], 'operation': \"*\"})\n",
    "print(result[\"result\"])"
   ]
  }
 ],
 "metadata": {
  "kernelspec": {
   "display_name": "venv",
   "language": "python",
   "name": "python3"
  },
  "language_info": {
   "codemirror_mode": {
    "name": "ipython",
    "version": 3
   },
   "file_extension": ".py",
   "mimetype": "text/x-python",
   "name": "python",
   "nbconvert_exporter": "python",
   "pygments_lexer": "ipython3",
   "version": "3.11.13"
  }
 },
 "nbformat": 4,
 "nbformat_minor": 2
}
