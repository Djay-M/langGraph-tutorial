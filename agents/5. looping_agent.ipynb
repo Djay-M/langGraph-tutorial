{
 "cells": [
  {
   "cell_type": "code",
   "execution_count": 2,
   "metadata": {},
   "outputs": [],
   "source": [
    "from typing import TypedDict\n",
    "from langgraph.graph import START, END, StateGraph\n",
    "from IPython.display import Image, display\n",
    "import random"
   ]
  },
  {
   "cell_type": "code",
   "execution_count": 3,
   "metadata": {},
   "outputs": [],
   "source": [
    "class AgentState(TypedDict):\n",
    "    name: str\n",
    "    values: list[int]\n",
    "    counter: int\n",
    "    message: str"
   ]
  },
  {
   "cell_type": "code",
   "execution_count": 26,
   "metadata": {},
   "outputs": [],
   "source": [
    "def greete_node(state: AgentState) -> AgentState:\n",
    "    \"\"\"Node to set a greeting message in the agent state\"\"\"\n",
    "    state[\"message\"] = f\"Hi {state.get('name' ,'')}, How are you doing ?\"\n",
    "    state[\"counter\"] = 0\n",
    "    state[\"values\"] = []\n",
    "    return state\n",
    "\n",
    "def random_node(state: AgentState) -> AgentState:\n",
    "    \"\"\"Node to add random values to agent state\"\"\"\n",
    "\n",
    "    state[\"values\"].append(random.randint(0, 5))\n",
    "    state[\"counter\"] += 1\n",
    "\n",
    "    return state\n",
    "\n",
    "def loop_edge(state: AgentState) -> AgentState:\n",
    "    \"\"\"Condition edge to perform the loop operation over 5 times\"\"\"\n",
    "\n",
    "    if state.get(\"counter\", 0) < 5: return \"loop\"\n",
    "    \n",
    "    return \"end\""
   ]
  },
  {
   "cell_type": "code",
   "execution_count": 27,
   "metadata": {},
   "outputs": [],
   "source": [
    "graph = StateGraph(AgentState)\n",
    "\n",
    "graph.add_node(\"greete_node\", greete_node)\n",
    "graph.add_node(\"random_node\", random_node)\n",
    "\n",
    "graph.add_edge(\"greete_node\", \"random_node\")\n",
    "\n",
    "graph.add_conditional_edges(\n",
    "    \"random_node\",\n",
    "    loop_edge,\n",
    "    {\n",
    "        \"loop\": \"random_node\",\n",
    "        \"end\": END\n",
    "    }\n",
    ")\n",
    "\n",
    "graph.set_entry_point(\"greete_node\")\n",
    "\n",
    "app = graph.compile()"
   ]
  },
  {
   "cell_type": "code",
   "execution_count": 28,
   "metadata": {},
   "outputs": [
    {
     "data": {
      "image/png": "[encoded data removed]",
      "text/plain": [
       "<IPython.core.display.Image object>"
      ]
     },
     "metadata": {},
     "output_type": "display_data"
    }
   ],
   "source": [
    "display(Image(app.get_graph().draw_mermaid_png()))"
   ]
  },
  {
   "cell_type": "code",
   "execution_count": 34,
   "metadata": {},
   "outputs": [
    {
     "name": "stdout",
     "output_type": "stream",
     "text": [
      "{'name': 'DJ', 'values': [5, 2, 3, 2, 1], 'counter': 5, 'message': 'Hi DJ, How are you doing ?'}\n"
     ]
    }
   ],
   "source": [
    "result = app.invoke({ 'name': \"DJ\"})\n",
    "print(result)"
   ]
  }
 ],
 "metadata": {
  "kernelspec": {
   "display_name": "venv",
   "language": "python",
   "name": "python3"
  },
  "language_info": {
   "codemirror_mode": {
    "name": "ipython",
    "version": 3
   },
   "file_extension": ".py",
   "mimetype": "text/x-python",
   "name": "python",
   "nbconvert_exporter": "python",
   "pygments_lexer": "ipython3",
   "version": "3.11.13"
  }
 },
 "nbformat": 4,
 "nbformat_minor": 2
}
