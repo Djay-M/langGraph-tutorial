{
 "cells": [
  {
   "cell_type": "code",
   "execution_count": 2,
   "metadata": {},
   "outputs": [],
   "source": [
    "from typing import TypedDict, Annotated, Sequence\n",
    "from langchain_core.messages import BaseMessage, ToolMessage, SystemMessage\n",
    "from langchain_ollama import ChatOllama\n",
    "from langchain_core.tools import tool\n",
    "from langgraph.graph import StateGraph, START, END\n",
    "from langgraph.graph.message import add_messages\n",
    "from langgraph.prebuilt import ToolNode\n",
    "from IPython.display import Image, display"
   ]
  },
  {
   "cell_type": "code",
   "execution_count": 3,
   "metadata": {},
   "outputs": [],
   "source": [
    "class AgentState(TypedDict):\n",
    "    messages: Annotated[Sequence[BaseMessage], add_messages]"
   ]
  },
  {
   "cell_type": "code",
   "execution_count": 21,
   "metadata": {},
   "outputs": [],
   "source": [
    "@tool\n",
    "def add(a: int, b: int) -> int:\n",
    "    \"\"\"function used to add two numbers\"\"\"\n",
    "    return a + b\n",
    "\n",
    "\n",
    "@tool\n",
    "def subtrack(a: int, b: int) -> int:\n",
    "    \"\"\"function to subtrack two number and return abs value\"\"\"\n",
    "    return abs(a - b)\n",
    "\n",
    "\n",
    "@tool\n",
    "def multiply(a: int, b: int) -> int:\n",
    "    \"\"\"function to multiply two numbers\"\"\"\n",
    "    return a * b\n",
    "\n",
    "\n",
    "tools = [add, subtrack, multiply]\n",
    "\n",
    "LLM = ChatOllama(model=\"llama3.1\").bind_tools(tools)"
   ]
  },
  {
   "cell_type": "code",
   "execution_count": 22,
   "metadata": {},
   "outputs": [],
   "source": [
    "def model_call(state: AgentState) -> AgentState:\n",
    "    \"\"\"Node respobile for calling the LLM\"\"\"\n",
    "\n",
    "    system_prompt = SystemMessage(\n",
    "        content=\"You are my AI assistant, answer the questions to best of you ability\"\n",
    "    )\n",
    "    response = LLM.invoke([system_prompt] + state[\"messages\"])\n",
    "\n",
    "    return {\"messages\": [response]}\n",
    "\n",
    "\n",
    "def should_contniue(state: AgentState) -> AgentState:\n",
    "    \"\"\"Node to determine whether to exit or contniue\"\"\"\n",
    "\n",
    "    last_message = state[\"messages\"][-1]\n",
    "\n",
    "    if not last_message.tool_calls:\n",
    "        return \"end\"\n",
    "\n",
    "    return \"contniue\""
   ]
  },
  {
   "cell_type": "code",
   "execution_count": 23,
   "metadata": {},
   "outputs": [],
   "source": [
    "tool_node = ToolNode(tools)\n",
    "graph = StateGraph(AgentState)\n",
    "\n",
    "graph.add_node(\"our_agent\", model_call)\n",
    "graph.add_node(\"tools\", tool_node)\n",
    "\n",
    "graph.add_edge(START, \"our_agent\")\n",
    "graph.add_conditional_edges(\n",
    "    \"our_agent\", should_contniue, {\"contniue\": \"our_agent\", \"end\": END}\n",
    ")\n",
    "\n",
    "graph.add_edge(\"tools\", \"our_agent\")\n",
    "\n",
    "agent = graph.compile()"
   ]
  },
  {
   "cell_type": "code",
   "execution_count": 24,
   "metadata": {},
   "outputs": [
    {
     "data": {
      "image/png": "[encoded data removed]",
      "text/plain": [
       "<IPython.core.display.Image object>"
      ]
     },
     "metadata": {},
     "output_type": "display_data"
    }
   ],
   "source": [
    "display(Image(agent.get_graph().draw_mermaid_png()))"
   ]
  },
  {
   "cell_type": "code",
   "execution_count": 25,
   "metadata": {},
   "outputs": [
    {
     "name": "stdout",
     "output_type": "stream",
     "text": [
      "================================\u001b[1m Human Message \u001b[0m=================================\n",
      "\n",
      "Add 2 + 2 and also please add 3 + 5, subtrack 1, 100 and tell me a joke plus multiply 3 * 3\n",
      "==================================\u001b[1m Ai Message \u001b[0m==================================\n",
      "Tool Calls:\n",
      "  add (6af08747-4ccf-4480-9855-5158224694b8)\n",
      " Call ID: 6af08747-4ccf-4480-9855-5158224694b8\n",
      "  Args:\n",
      "    a: 2\n",
      "    b: 2\n",
      "  add (7dee46b5-d6af-4943-8452-9abf5f058876)\n",
      " Call ID: 7dee46b5-d6af-4943-8452-9abf5f058876\n",
      "  Args:\n",
      "    a: 3\n",
      "    b: 5\n",
      "  subtrack (caba1c61-6623-47a5-a83b-ad73c69f072a)\n",
      " Call ID: caba1c61-6623-47a5-a83b-ad73c69f072a\n",
      "  Args:\n",
      "    a: 1\n",
      "    b: 100\n",
      "  multiply (af1d08b8-ff41-4483-9fc1-12b4f2b9649f)\n",
      " Call ID: af1d08b8-ff41-4483-9fc1-12b4f2b9649f\n",
      "  Args:\n",
      "    a: 3\n",
      "    b: 3\n",
      "==================================\u001b[1m Ai Message \u001b[0m==================================\n",
      "\n",
      " \n",
      "\n",
      "Based on the tool call responses, here are the results:\n",
      "\n",
      "- 2 + 2 = 4\n",
      "- 3 + 5 = 8\n",
      "- 100 - 1 = 99 \n",
      "- What do you call a fake noodle? An impasta!\n",
      "- 3 * 3 = 9\n"
     ]
    }
   ],
   "source": [
    "def print_stream(stream):\n",
    "    for s in stream:\n",
    "        message = s[\"messages\"][-1]\n",
    "\n",
    "        if isinstance(message, tuple):\n",
    "            print(message)\n",
    "        else:\n",
    "            message.pretty_print()\n",
    "\n",
    "\n",
    "inputs = {\n",
    "    \"messages\": [\n",
    "        (\n",
    "            \"user\",\n",
    "            \"Add 2 + 2 and also please add 3 + 5, subtrack 1, 100 and tell me a joke plus multiply 3 * 3\",\n",
    "        )\n",
    "    ]\n",
    "}\n",
    "print_stream(agent.stream(inputs, stream_mode=\"values\"))"
   ]
  },
  {
   "cell_type": "code",
   "execution_count": null,
   "metadata": {},
   "outputs": [],
   "source": []
  }
 ],
 "metadata": {
  "kernelspec": {
   "display_name": "venv",
   "language": "python",
   "name": "python3"
  },
  "language_info": {
   "codemirror_mode": {
    "name": "ipython",
    "version": 3
   },
   "file_extension": ".py",
   "mimetype": "text/x-python",
   "name": "python",
   "nbconvert_exporter": "python",
   "pygments_lexer": "ipython3",
   "version": "3.11.13"
  }
 },
 "nbformat": 4,
 "nbformat_minor": 2
}
