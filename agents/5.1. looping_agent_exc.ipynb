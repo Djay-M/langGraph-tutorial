{
 "cells": [
  {
   "cell_type": "code",
   "execution_count": 134,
   "metadata": {},
   "outputs": [],
   "source": [
    "from typing import TypedDict\n",
    "from langgraph.graph import StateGraph, START, END\n",
    "from IPython.display import display, Image\n",
    "import random\n",
    "import json\n",
    "MAX_GUESS_COUNT = 10"
   ]
  },
  {
   "cell_type": "code",
   "execution_count": 141,
   "metadata": {},
   "outputs": [],
   "source": [
    "class AgentState(TypedDict):\n",
    "    name: str\n",
    "    counter: int\n",
    "    guesses: list[int]\n",
    "    lowerBound: int\n",
    "    upperBound: int\n",
    "    message: str\n",
    "    hints: list[str]\n",
    "    randomBound: list[dict]\n",
    "    finalResult: str"
   ]
  },
  {
   "cell_type": "code",
   "execution_count": 224,
   "metadata": {},
   "outputs": [],
   "source": [
    "def setup_node(state: AgentState) -> AgentState:\n",
    "    \"\"\"Node to inital setup of the AgentState\"\"\"\n",
    "\n",
    "    state[\"message\"] = f\"Hi, {state.get('name', '')}, Welcome to guessing game\"\n",
    "    state[\"counter\"] = 0\n",
    "    state[\"lowerBound\"] = state.get(\"lowerBound\", 0)\n",
    "    state[\"upperBound\"] = state.get(\"upperBound\", 10)\n",
    "    state[\"guesses\"] = []\n",
    "    state[\"hints\"] = []\n",
    "    state[\"randomBound\"] = []\n",
    "    state[\"finalResult\"] = \"Lost agent was not able to guess the number, run out of chances\"\n",
    "\n",
    "    return state\n",
    "\n",
    "def guess_node(state: AgentState) -> AgentState:\n",
    "    \"\"\"Node to perform the guessing operation on the lower and upper bound\"\"\"\n",
    "    randomLowerBound = 1\n",
    "    randomHigherBound = 10 ** 9\n",
    "\n",
    "    if state.get(\"randomBound\"):\n",
    "        randomLowerBound = state[\"randomBound\"][-1].get(\"randomLowerBound\", 1)\n",
    "        randomHigherBound = state[\"randomBound\"][-1].get(\"randomHigherBound\", 1000)\n",
    "\n",
    "\n",
    "    # print(randomLowerBound, randomHigherBound)\n",
    "\n",
    "    if state.get(\"hints\", []):\n",
    "        if state[\"hints\"][-1] == \"lower\":\n",
    "            randomHigherBound = randomHigherBound // 10\n",
    "        elif state[\"hints\"][-1] == \"higher\":\n",
    "            randomLowerBound = randomLowerBound * 10 + 1\n",
    "\n",
    "    if randomHigherBound <= randomLowerBound: randomHigherBound *= 2\n",
    "\n",
    "    guessedNumber = random.randint(randomLowerBound, randomHigherBound)\n",
    "\n",
    "    state[\"randomBound\"].append({ \"randomLowerBound\": randomLowerBound, \"randomHigherBound\": randomHigherBound })\n",
    "    state[\"guesses\"].append(guessedNumber)\n",
    "    state[\"counter\"] += 1\n",
    "    return state\n",
    "\n",
    "def hint_node(state: AgentState) -> AgentState:\n",
    "    \"\"\"Node to provide the hint for the last guess\"\"\"\n",
    "\n",
    "    hint = \"lower\"\n",
    "    \n",
    "    if state[\"lowerBound\"] > state[\"guesses\"][-1]:\n",
    "        hint = \"higher\"\n",
    "    elif state[\"lowerBound\"] <= state[\"guesses\"][-1] <= state[\"upperBound\"]:\n",
    "        state[\"finalResult\"] = f\"WON!! agent was able to guess the number in {state['counter']} chances\"\n",
    "        hint = \"inBound\"\n",
    "\n",
    "    \n",
    "    state[\"hints\"].append(hint)\n",
    "\n",
    "    return state\n",
    "\n",
    "def hint_condition_edge(state: AgentState) -> AgentState:\n",
    "    \"\"\"Condition edge to decide whether to continue guessing or end the graph\"\"\"\n",
    "\n",
    "    if state[\"hints\"][-1] == \"inBound\" or state[\"counter\"] >= MAX_GUESS_COUNT: return \"exit\"\n",
    "\n",
    "    return \"continue\""
   ]
  },
  {
   "cell_type": "code",
   "execution_count": 225,
   "metadata": {},
   "outputs": [],
   "source": [
    "graph = StateGraph(AgentState)\n",
    "\n",
    "graph.add_node(\"setup_node\", setup_node)\n",
    "graph.add_node(\"guess_node\", guess_node)\n",
    "graph.add_node(\"hint_node\", hint_node)\n",
    "\n",
    "graph.add_edge(\"setup_node\", \"guess_node\")\n",
    "graph.add_edge(\"guess_node\", \"hint_node\")\n",
    "graph.add_conditional_edges(\n",
    "    \"hint_node\",\n",
    "    hint_condition_edge,\n",
    "    {\n",
    "        \"continue\": \"guess_node\",\n",
    "        \"exit\": END\n",
    "    }\n",
    ")\n",
    "\n",
    "graph.set_entry_point(\"setup_node\")\n",
    "\n",
    "app = graph.compile()"
   ]
  },
  {
   "cell_type": "code",
   "execution_count": 226,
   "metadata": {},
   "outputs": [
    {
     "data": {
      "image/png": "[encoded data removed]",
      "text/plain": [
       "<IPython.core.display.Image object>"
      ]
     },
     "metadata": {},
     "output_type": "display_data"
    }
   ],
   "source": [
    "display(Image(app.get_graph().draw_mermaid_png()))"
   ]
  },
  {
   "cell_type": "code",
   "execution_count": 233,
   "metadata": {},
   "outputs": [
    {
     "name": "stdout",
     "output_type": "stream",
     "text": [
      "WON!! agent was able to guess the number in 10 chances\n",
      "[\n",
      "    606675076,\n",
      "    93811404,\n",
      "    5262164,\n",
      "    232857,\n",
      "    16278,\n",
      "    8211,\n",
      "    441,\n",
      "    957,\n",
      "    644,\n",
      "    1972\n",
      "]\n"
     ]
    }
   ],
   "source": [
    "inputState = { \"name\": \"DJ\", \"lowerBound\": 1000, \"upperBound\": 2000 }\n",
    "result = app.invoke(inputState)\n",
    "print(result[\"finalResult\"])\n",
    "print(json.dumps(result[\"guesses\"], indent=4))\n",
    "\n",
    "if \"Lost\" in result[\"finalResult\"]:\n",
    "    print('*' * 10)\n",
    "    print(json.dumps(result[\"randomBound\"], indent=4))"
   ]
  }
 ],
 "metadata": {
  "kernelspec": {
   "display_name": "venv",
   "language": "python",
   "name": "python3"
  },
  "language_info": {
   "codemirror_mode": {
    "name": "ipython",
    "version": 3
   },
   "file_extension": ".py",
   "mimetype": "text/x-python",
   "name": "python",
   "nbconvert_exporter": "python",
   "pygments_lexer": "ipython3",
   "version": "3.11.13"
  }
 },
 "nbformat": 4,
 "nbformat_minor": 2
}
